{
 "cells": [
  {
   "cell_type": "code",
   "execution_count": 1,
   "metadata": {
    "collapsed": true
   },
   "outputs": [],
   "source": [
    "import numpy as np\n",
    "import pandas as pd\n",
    "import matplotlib.pyplot as plt\n",
    "%matplotlib inline"
   ]
  },
  {
   "cell_type": "code",
   "execution_count": 2,
   "metadata": {
    "scrolled": true
   },
   "outputs": [
    {
     "name": "stdout",
     "output_type": "stream",
     "text": [
      "  transaction_id     num_var_1  num_var_2  num_var_3     num_var_4  \\\n",
      "0          id_11  2.302632e-08   0.040182        0.0  1.800000e-07   \n",
      "1          id_33  7.965789e-06   0.157872        0.0  2.105000e-06   \n",
      "2          id_51  7.828947e-08   0.089140        0.0  3.550000e-07   \n",
      "3          id_54  7.894737e-08   0.227239        0.0  1.050000e-06   \n",
      "4          id_62  3.321053e-06   0.160410        0.0  2.105000e-06   \n",
      "\n",
      "      num_var_5     num_var_6     num_var_7 cat_var_1 cat_var_2  ...    \\\n",
      "0  2.302632e-08  2.368421e-08  1.115205e-08       NaN        ce  ...     \n",
      "1  2.769737e-07  7.965789e-06  2.433058e-06        da        tn  ...     \n",
      "2  4.671053e-08  1.052632e-07  4.276014e-07        gf        ce  ...     \n",
      "3  1.381579e-07  2.190789e-07  1.848054e-08       NaN        ce  ...     \n",
      "4  2.769737e-07  3.340789e-06  2.152983e-06        da        tn  ...     \n",
      "\n",
      "  cat_var_34 cat_var_35 cat_var_36 cat_var_37 cat_var_38 cat_var_39  \\\n",
      "0          0          0          0          0          0          0   \n",
      "1          0          0          0          0          0          0   \n",
      "2          0          0          0          0          0          0   \n",
      "3          0          0          0          0          0          0   \n",
      "4          0          0          0          0          0          0   \n",
      "\n",
      "  cat_var_40 cat_var_41 cat_var_42 target  \n",
      "0          0          0          0      0  \n",
      "1          0          0          0      0  \n",
      "2          0          0          0      0  \n",
      "3          0          0          0      0  \n",
      "4          0          0          0      0  \n",
      "\n",
      "[5 rows x 51 columns]\n",
      "  transaction_id     num_var_1  num_var_2  num_var_3     num_var_4  \\\n",
      "0           id_1  4.736842e-07   0.162737        0.0  2.105000e-06   \n",
      "1           id_6  6.578947e-08   0.086391        0.0  7.500000e-07   \n",
      "2           id_9  1.585526e-07   0.159987        0.0  2.105000e-06   \n",
      "3          id_14  8.552632e-08   0.088083        0.0  7.500000e-07   \n",
      "4          id_15  1.144737e-07   0.089563        0.0  3.550000e-07   \n",
      "\n",
      "      num_var_5     num_var_6     num_var_7 cat_var_1 cat_var_2    ...      \\\n",
      "0  2.769737e-07  4.828947e-07  1.300010e-07        da        tn    ...       \n",
      "1  1.315789e-07  9.868421e-08  3.186300e-08        pu        ce    ...       \n",
      "2  2.769737e-07  1.585526e-07  4.715724e-08        da        tn    ...       \n",
      "3  8.552632e-08  9.868421e-08  4.142190e-08        pu        ce    ...       \n",
      "4  4.671053e-08  4.407895e-08  1.452953e-07        gf        ce    ...       \n",
      "\n",
      "  cat_var_33 cat_var_34 cat_var_35 cat_var_36 cat_var_37 cat_var_38  \\\n",
      "0          0          0          0          0          0          0   \n",
      "1          0          0          0          0          0          0   \n",
      "2          0          0          0          0          0          0   \n",
      "3          0          0          0          0          0          0   \n",
      "4          0          0          0          0          0          0   \n",
      "\n",
      "  cat_var_39 cat_var_40 cat_var_41 cat_var_42  \n",
      "0          0          0          0          0  \n",
      "1          0          0          0          0  \n",
      "2          0          0          0          0  \n",
      "3          0          0          0          0  \n",
      "4          0          0          0          0  \n",
      "\n",
      "[5 rows x 50 columns]\n"
     ]
    }
   ],
   "source": [
    "train_data = pd.read_csv('train.csv')\n",
    "test_data = pd.read_csv('test.csv')\n",
    "print(train_data.head())\n",
    "print(test_data.head())"
   ]
  },
  {
   "cell_type": "code",
   "execution_count": 3,
   "metadata": {},
   "outputs": [
    {
     "name": "stdout",
     "output_type": "stream",
     "text": [
      "(348978, 51)\n",
      "(523466, 50)\n"
     ]
    }
   ],
   "source": [
    "print(train_data.shape)\n",
    "print(test_data.shape)"
   ]
  },
  {
   "cell_type": "code",
   "execution_count": 4,
   "metadata": {
    "scrolled": true
   },
   "outputs": [
    {
     "data": {
      "text/plain": [
       "transaction_id     object\n",
       "num_var_1         float64\n",
       "num_var_2         float64\n",
       "num_var_3         float64\n",
       "num_var_4         float64\n",
       "num_var_5         float64\n",
       "num_var_6         float64\n",
       "num_var_7         float64\n",
       "cat_var_1          object\n",
       "cat_var_2          object\n",
       "cat_var_3          object\n",
       "cat_var_4          object\n",
       "cat_var_5          object\n",
       "cat_var_6          object\n",
       "cat_var_7          object\n",
       "cat_var_8          object\n",
       "cat_var_9          object\n",
       "cat_var_10         object\n",
       "cat_var_11         object\n",
       "cat_var_12         object\n",
       "cat_var_13         object\n",
       "cat_var_14         object\n",
       "cat_var_15         object\n",
       "cat_var_16         object\n",
       "cat_var_17         object\n",
       "cat_var_18         object\n",
       "cat_var_19          int64\n",
       "cat_var_20          int64\n",
       "cat_var_21          int64\n",
       "cat_var_22          int64\n",
       "cat_var_23          int64\n",
       "cat_var_24          int64\n",
       "cat_var_25          int64\n",
       "cat_var_26          int64\n",
       "cat_var_27          int64\n",
       "cat_var_28          int64\n",
       "cat_var_29          int64\n",
       "cat_var_30          int64\n",
       "cat_var_31          int64\n",
       "cat_var_32          int64\n",
       "cat_var_33          int64\n",
       "cat_var_34          int64\n",
       "cat_var_35          int64\n",
       "cat_var_36          int64\n",
       "cat_var_37          int64\n",
       "cat_var_38          int64\n",
       "cat_var_39          int64\n",
       "cat_var_40          int64\n",
       "cat_var_41          int64\n",
       "cat_var_42          int64\n",
       "target              int64\n",
       "dtype: object"
      ]
     },
     "execution_count": 4,
     "metadata": {},
     "output_type": "execute_result"
    }
   ],
   "source": [
    "train_data.dtypes"
   ]
  },
  {
   "cell_type": "code",
   "execution_count": 5,
   "metadata": {
    "collapsed": true
   },
   "outputs": [],
   "source": [
    "target = train_data['target']\n",
    "del train_data['target']\n",
    "del train_data['transaction_id']\n",
    "\n",
    "del test_data['transaction_id']"
   ]
  },
  {
   "cell_type": "code",
   "execution_count": null,
   "metadata": {
    "collapsed": true
   },
   "outputs": [],
   "source": []
  },
  {
   "cell_type": "code",
   "execution_count": 6,
   "metadata": {
    "scrolled": true
   },
   "outputs": [
    {
     "data": {
      "text/plain": [
       "num_var_1          0\n",
       "num_var_2          0\n",
       "num_var_3          0\n",
       "num_var_4          0\n",
       "num_var_5          0\n",
       "num_var_6          0\n",
       "num_var_7          0\n",
       "cat_var_1      15782\n",
       "cat_var_2          0\n",
       "cat_var_3      43853\n",
       "cat_var_4          0\n",
       "cat_var_5          0\n",
       "cat_var_6          0\n",
       "cat_var_7          0\n",
       "cat_var_8     109738\n",
       "cat_var_9          0\n",
       "cat_var_10         0\n",
       "cat_var_11         0\n",
       "cat_var_12         0\n",
       "cat_var_13         0\n",
       "cat_var_14         0\n",
       "cat_var_15         0\n",
       "cat_var_16         0\n",
       "cat_var_17         0\n",
       "cat_var_18         0\n",
       "cat_var_19         0\n",
       "cat_var_20         0\n",
       "cat_var_21         0\n",
       "cat_var_22         0\n",
       "cat_var_23         0\n",
       "cat_var_24         0\n",
       "cat_var_25         0\n",
       "cat_var_26         0\n",
       "cat_var_27         0\n",
       "cat_var_28         0\n",
       "cat_var_29         0\n",
       "cat_var_30         0\n",
       "cat_var_31         0\n",
       "cat_var_32         0\n",
       "cat_var_33         0\n",
       "cat_var_34         0\n",
       "cat_var_35         0\n",
       "cat_var_36         0\n",
       "cat_var_37         0\n",
       "cat_var_38         0\n",
       "cat_var_39         0\n",
       "cat_var_40         0\n",
       "cat_var_41         0\n",
       "cat_var_42         0\n",
       "dtype: int64"
      ]
     },
     "execution_count": 6,
     "metadata": {},
     "output_type": "execute_result"
    }
   ],
   "source": [
    "train_data.isnull().sum()"
   ]
  },
  {
   "cell_type": "code",
   "execution_count": 7,
   "metadata": {
    "scrolled": true
   },
   "outputs": [
    {
     "data": {
      "text/plain": [
       "num_var_1         0\n",
       "num_var_2         0\n",
       "num_var_3         0\n",
       "num_var_4         0\n",
       "num_var_5         0\n",
       "num_var_6         0\n",
       "num_var_7         0\n",
       "cat_var_1     18692\n",
       "cat_var_2         0\n",
       "cat_var_3     53362\n",
       "cat_var_4         0\n",
       "cat_var_5         0\n",
       "cat_var_6     21943\n",
       "cat_var_7         0\n",
       "cat_var_8      8138\n",
       "cat_var_9         0\n",
       "cat_var_10        0\n",
       "cat_var_11        0\n",
       "cat_var_12        0\n",
       "cat_var_13        0\n",
       "cat_var_14        0\n",
       "cat_var_15        0\n",
       "cat_var_16        0\n",
       "cat_var_17        0\n",
       "cat_var_18        0\n",
       "cat_var_19        0\n",
       "cat_var_20        0\n",
       "cat_var_21        0\n",
       "cat_var_22        0\n",
       "cat_var_23        0\n",
       "cat_var_24        0\n",
       "cat_var_25        0\n",
       "cat_var_26        0\n",
       "cat_var_27        0\n",
       "cat_var_28        0\n",
       "cat_var_29        0\n",
       "cat_var_30        0\n",
       "cat_var_31        0\n",
       "cat_var_32        0\n",
       "cat_var_33        0\n",
       "cat_var_34        0\n",
       "cat_var_35        0\n",
       "cat_var_36        0\n",
       "cat_var_37        0\n",
       "cat_var_38        0\n",
       "cat_var_39        0\n",
       "cat_var_40        0\n",
       "cat_var_41        0\n",
       "cat_var_42        0\n",
       "dtype: int64"
      ]
     },
     "execution_count": 7,
     "metadata": {},
     "output_type": "execute_result"
    }
   ],
   "source": [
    "test_data.isnull().sum()"
   ]
  },
  {
   "cell_type": "code",
   "execution_count": 8,
   "metadata": {
    "collapsed": true
   },
   "outputs": [],
   "source": [
    "train_data.cat_var_1.fillna('NaN', inplace=True)\n",
    "train_data.cat_var_3.fillna('NaN', inplace=True)\n",
    "train_data.cat_var_8.fillna('NaN', inplace=True)\n",
    "\n",
    "\n",
    "test_data.cat_var_1.fillna('NaN', inplace=True)\n",
    "test_data.cat_var_3.fillna('NaN', inplace=True)\n",
    "test_data.cat_var_6.fillna('NaN', inplace=True)\n",
    "test_data.cat_var_8.fillna('NaN', inplace=True)"
   ]
  },
  {
   "cell_type": "code",
   "execution_count": 9,
   "metadata": {
    "scrolled": true
   },
   "outputs": [
    {
     "data": {
      "text/plain": [
       "num_var_1     0\n",
       "num_var_2     0\n",
       "num_var_3     0\n",
       "num_var_4     0\n",
       "num_var_5     0\n",
       "num_var_6     0\n",
       "num_var_7     0\n",
       "cat_var_1     0\n",
       "cat_var_2     0\n",
       "cat_var_3     0\n",
       "cat_var_4     0\n",
       "cat_var_5     0\n",
       "cat_var_6     0\n",
       "cat_var_7     0\n",
       "cat_var_8     0\n",
       "cat_var_9     0\n",
       "cat_var_10    0\n",
       "cat_var_11    0\n",
       "cat_var_12    0\n",
       "cat_var_13    0\n",
       "cat_var_14    0\n",
       "cat_var_15    0\n",
       "cat_var_16    0\n",
       "cat_var_17    0\n",
       "cat_var_18    0\n",
       "cat_var_19    0\n",
       "cat_var_20    0\n",
       "cat_var_21    0\n",
       "cat_var_22    0\n",
       "cat_var_23    0\n",
       "cat_var_24    0\n",
       "cat_var_25    0\n",
       "cat_var_26    0\n",
       "cat_var_27    0\n",
       "cat_var_28    0\n",
       "cat_var_29    0\n",
       "cat_var_30    0\n",
       "cat_var_31    0\n",
       "cat_var_32    0\n",
       "cat_var_33    0\n",
       "cat_var_34    0\n",
       "cat_var_35    0\n",
       "cat_var_36    0\n",
       "cat_var_37    0\n",
       "cat_var_38    0\n",
       "cat_var_39    0\n",
       "cat_var_40    0\n",
       "cat_var_41    0\n",
       "cat_var_42    0\n",
       "dtype: int64"
      ]
     },
     "execution_count": 9,
     "metadata": {},
     "output_type": "execute_result"
    }
   ],
   "source": [
    "train_data.isnull().sum()"
   ]
  },
  {
   "cell_type": "code",
   "execution_count": 10,
   "metadata": {
    "scrolled": true
   },
   "outputs": [
    {
     "data": {
      "text/plain": [
       "num_var_1     0\n",
       "num_var_2     0\n",
       "num_var_3     0\n",
       "num_var_4     0\n",
       "num_var_5     0\n",
       "num_var_6     0\n",
       "num_var_7     0\n",
       "cat_var_1     0\n",
       "cat_var_2     0\n",
       "cat_var_3     0\n",
       "cat_var_4     0\n",
       "cat_var_5     0\n",
       "cat_var_6     0\n",
       "cat_var_7     0\n",
       "cat_var_8     0\n",
       "cat_var_9     0\n",
       "cat_var_10    0\n",
       "cat_var_11    0\n",
       "cat_var_12    0\n",
       "cat_var_13    0\n",
       "cat_var_14    0\n",
       "cat_var_15    0\n",
       "cat_var_16    0\n",
       "cat_var_17    0\n",
       "cat_var_18    0\n",
       "cat_var_19    0\n",
       "cat_var_20    0\n",
       "cat_var_21    0\n",
       "cat_var_22    0\n",
       "cat_var_23    0\n",
       "cat_var_24    0\n",
       "cat_var_25    0\n",
       "cat_var_26    0\n",
       "cat_var_27    0\n",
       "cat_var_28    0\n",
       "cat_var_29    0\n",
       "cat_var_30    0\n",
       "cat_var_31    0\n",
       "cat_var_32    0\n",
       "cat_var_33    0\n",
       "cat_var_34    0\n",
       "cat_var_35    0\n",
       "cat_var_36    0\n",
       "cat_var_37    0\n",
       "cat_var_38    0\n",
       "cat_var_39    0\n",
       "cat_var_40    0\n",
       "cat_var_41    0\n",
       "cat_var_42    0\n",
       "dtype: int64"
      ]
     },
     "execution_count": 10,
     "metadata": {},
     "output_type": "execute_result"
    }
   ],
   "source": [
    "test_data.isnull().sum()"
   ]
  },
  {
   "cell_type": "code",
   "execution_count": null,
   "metadata": {
    "collapsed": true
   },
   "outputs": [],
   "source": []
  },
  {
   "cell_type": "code",
   "execution_count": 11,
   "metadata": {},
   "outputs": [
    {
     "data": {
      "text/plain": [
       "(348978, 49)"
      ]
     },
     "execution_count": 11,
     "metadata": {},
     "output_type": "execute_result"
    }
   ],
   "source": [
    "train_data.shape"
   ]
  },
  {
   "cell_type": "code",
   "execution_count": 12,
   "metadata": {
    "collapsed": true
   },
   "outputs": [],
   "source": [
    "from sklearn.preprocessing import LabelEncoder"
   ]
  },
  {
   "cell_type": "code",
   "execution_count": 13,
   "metadata": {
    "collapsed": true
   },
   "outputs": [],
   "source": [
    "label_encoder = LabelEncoder()"
   ]
  },
  {
   "cell_type": "code",
   "execution_count": 14,
   "metadata": {
    "scrolled": true
   },
   "outputs": [
    {
     "name": "stdout",
     "output_type": "stream",
     "text": [
      "cat_var_1\n",
      "cat_var_2\n",
      "cat_var_3\n",
      "cat_var_4\n",
      "cat_var_5\n",
      "cat_var_6\n",
      "cat_var_7\n",
      "cat_var_8\n",
      "cat_var_9\n",
      "cat_var_10\n",
      "cat_var_11\n",
      "cat_var_12\n",
      "cat_var_13\n",
      "cat_var_14\n",
      "cat_var_15\n",
      "cat_var_16\n",
      "cat_var_17\n",
      "cat_var_18\n"
     ]
    }
   ],
   "source": [
    "for cols in train_data.columns:\n",
    "    if train_data[cols].dtype == 'object':\n",
    "        print(cols)\n",
    "        label_encoder.fit(np.hstack((train_data[cols],test_data[cols])))\n",
    "        train_data[cols] = label_encoder.transform(train_data[cols])\n",
    "        test_data[cols] = label_encoder.transform(test_data[cols])"
   ]
  },
  {
   "cell_type": "code",
   "execution_count": 15,
   "metadata": {
    "scrolled": true
   },
   "outputs": [
    {
     "data": {
      "text/plain": [
       "num_var_1     float64\n",
       "num_var_2     float64\n",
       "num_var_3     float64\n",
       "num_var_4     float64\n",
       "num_var_5     float64\n",
       "num_var_6     float64\n",
       "num_var_7     float64\n",
       "cat_var_1       int64\n",
       "cat_var_2       int64\n",
       "cat_var_3       int64\n",
       "cat_var_4       int64\n",
       "cat_var_5       int64\n",
       "cat_var_6       int64\n",
       "cat_var_7       int64\n",
       "cat_var_8       int64\n",
       "cat_var_9       int64\n",
       "cat_var_10      int64\n",
       "cat_var_11      int64\n",
       "cat_var_12      int64\n",
       "cat_var_13      int64\n",
       "cat_var_14      int64\n",
       "cat_var_15      int64\n",
       "cat_var_16      int64\n",
       "cat_var_17      int64\n",
       "cat_var_18      int64\n",
       "cat_var_19      int64\n",
       "cat_var_20      int64\n",
       "cat_var_21      int64\n",
       "cat_var_22      int64\n",
       "cat_var_23      int64\n",
       "cat_var_24      int64\n",
       "cat_var_25      int64\n",
       "cat_var_26      int64\n",
       "cat_var_27      int64\n",
       "cat_var_28      int64\n",
       "cat_var_29      int64\n",
       "cat_var_30      int64\n",
       "cat_var_31      int64\n",
       "cat_var_32      int64\n",
       "cat_var_33      int64\n",
       "cat_var_34      int64\n",
       "cat_var_35      int64\n",
       "cat_var_36      int64\n",
       "cat_var_37      int64\n",
       "cat_var_38      int64\n",
       "cat_var_39      int64\n",
       "cat_var_40      int64\n",
       "cat_var_41      int64\n",
       "cat_var_42      int64\n",
       "dtype: object"
      ]
     },
     "execution_count": 15,
     "metadata": {},
     "output_type": "execute_result"
    }
   ],
   "source": [
    "train_data.dtypes"
   ]
  },
  {
   "cell_type": "code",
   "execution_count": null,
   "metadata": {
    "collapsed": true
   },
   "outputs": [],
   "source": []
  },
  {
   "cell_type": "code",
   "execution_count": 16,
   "metadata": {},
   "outputs": [
    {
     "data": {
      "text/html": [
       "<div>\n",
       "<style>\n",
       "    .dataframe thead tr:only-child th {\n",
       "        text-align: right;\n",
       "    }\n",
       "\n",
       "    .dataframe thead th {\n",
       "        text-align: left;\n",
       "    }\n",
       "\n",
       "    .dataframe tbody tr th {\n",
       "        vertical-align: top;\n",
       "    }\n",
       "</style>\n",
       "<table border=\"1\" class=\"dataframe\">\n",
       "  <thead>\n",
       "    <tr style=\"text-align: right;\">\n",
       "      <th></th>\n",
       "      <th>num_var_1</th>\n",
       "      <th>num_var_2</th>\n",
       "      <th>num_var_3</th>\n",
       "      <th>num_var_4</th>\n",
       "      <th>num_var_5</th>\n",
       "      <th>num_var_6</th>\n",
       "      <th>num_var_7</th>\n",
       "      <th>cat_var_1</th>\n",
       "      <th>cat_var_2</th>\n",
       "      <th>cat_var_3</th>\n",
       "      <th>...</th>\n",
       "      <th>cat_var_33</th>\n",
       "      <th>cat_var_34</th>\n",
       "      <th>cat_var_35</th>\n",
       "      <th>cat_var_36</th>\n",
       "      <th>cat_var_37</th>\n",
       "      <th>cat_var_38</th>\n",
       "      <th>cat_var_39</th>\n",
       "      <th>cat_var_40</th>\n",
       "      <th>cat_var_41</th>\n",
       "      <th>cat_var_42</th>\n",
       "    </tr>\n",
       "  </thead>\n",
       "  <tbody>\n",
       "    <tr>\n",
       "      <th>0</th>\n",
       "      <td>2.302632e-08</td>\n",
       "      <td>0.040182</td>\n",
       "      <td>0.0</td>\n",
       "      <td>1.800000e-07</td>\n",
       "      <td>2.302632e-08</td>\n",
       "      <td>2.368421e-08</td>\n",
       "      <td>1.115205e-08</td>\n",
       "      <td>0</td>\n",
       "      <td>3</td>\n",
       "      <td>75</td>\n",
       "      <td>...</td>\n",
       "      <td>0</td>\n",
       "      <td>0</td>\n",
       "      <td>0</td>\n",
       "      <td>0</td>\n",
       "      <td>0</td>\n",
       "      <td>0</td>\n",
       "      <td>0</td>\n",
       "      <td>0</td>\n",
       "      <td>0</td>\n",
       "      <td>0</td>\n",
       "    </tr>\n",
       "    <tr>\n",
       "      <th>1</th>\n",
       "      <td>7.965789e-06</td>\n",
       "      <td>0.157872</td>\n",
       "      <td>0.0</td>\n",
       "      <td>2.105000e-06</td>\n",
       "      <td>2.769737e-07</td>\n",
       "      <td>7.965789e-06</td>\n",
       "      <td>2.433058e-06</td>\n",
       "      <td>66</td>\n",
       "      <td>50</td>\n",
       "      <td>607</td>\n",
       "      <td>...</td>\n",
       "      <td>0</td>\n",
       "      <td>0</td>\n",
       "      <td>0</td>\n",
       "      <td>0</td>\n",
       "      <td>0</td>\n",
       "      <td>0</td>\n",
       "      <td>0</td>\n",
       "      <td>0</td>\n",
       "      <td>0</td>\n",
       "      <td>0</td>\n",
       "    </tr>\n",
       "    <tr>\n",
       "      <th>2</th>\n",
       "      <td>7.828947e-08</td>\n",
       "      <td>0.089140</td>\n",
       "      <td>0.0</td>\n",
       "      <td>3.550000e-07</td>\n",
       "      <td>4.671053e-08</td>\n",
       "      <td>1.052632e-07</td>\n",
       "      <td>4.276014e-07</td>\n",
       "      <td>128</td>\n",
       "      <td>3</td>\n",
       "      <td>158</td>\n",
       "      <td>...</td>\n",
       "      <td>0</td>\n",
       "      <td>0</td>\n",
       "      <td>0</td>\n",
       "      <td>0</td>\n",
       "      <td>0</td>\n",
       "      <td>0</td>\n",
       "      <td>0</td>\n",
       "      <td>0</td>\n",
       "      <td>0</td>\n",
       "      <td>0</td>\n",
       "    </tr>\n",
       "    <tr>\n",
       "      <th>3</th>\n",
       "      <td>7.894737e-08</td>\n",
       "      <td>0.227239</td>\n",
       "      <td>0.0</td>\n",
       "      <td>1.050000e-06</td>\n",
       "      <td>1.381579e-07</td>\n",
       "      <td>2.190789e-07</td>\n",
       "      <td>1.848054e-08</td>\n",
       "      <td>0</td>\n",
       "      <td>3</td>\n",
       "      <td>140</td>\n",
       "      <td>...</td>\n",
       "      <td>0</td>\n",
       "      <td>0</td>\n",
       "      <td>0</td>\n",
       "      <td>0</td>\n",
       "      <td>0</td>\n",
       "      <td>0</td>\n",
       "      <td>0</td>\n",
       "      <td>0</td>\n",
       "      <td>0</td>\n",
       "      <td>0</td>\n",
       "    </tr>\n",
       "    <tr>\n",
       "      <th>4</th>\n",
       "      <td>3.321053e-06</td>\n",
       "      <td>0.160410</td>\n",
       "      <td>0.0</td>\n",
       "      <td>2.105000e-06</td>\n",
       "      <td>2.769737e-07</td>\n",
       "      <td>3.340789e-06</td>\n",
       "      <td>2.152983e-06</td>\n",
       "      <td>66</td>\n",
       "      <td>50</td>\n",
       "      <td>609</td>\n",
       "      <td>...</td>\n",
       "      <td>0</td>\n",
       "      <td>0</td>\n",
       "      <td>0</td>\n",
       "      <td>0</td>\n",
       "      <td>0</td>\n",
       "      <td>0</td>\n",
       "      <td>0</td>\n",
       "      <td>0</td>\n",
       "      <td>0</td>\n",
       "      <td>0</td>\n",
       "    </tr>\n",
       "  </tbody>\n",
       "</table>\n",
       "<p>5 rows × 49 columns</p>\n",
       "</div>"
      ],
      "text/plain": [
       "      num_var_1  num_var_2  num_var_3     num_var_4     num_var_5  \\\n",
       "0  2.302632e-08   0.040182        0.0  1.800000e-07  2.302632e-08   \n",
       "1  7.965789e-06   0.157872        0.0  2.105000e-06  2.769737e-07   \n",
       "2  7.828947e-08   0.089140        0.0  3.550000e-07  4.671053e-08   \n",
       "3  7.894737e-08   0.227239        0.0  1.050000e-06  1.381579e-07   \n",
       "4  3.321053e-06   0.160410        0.0  2.105000e-06  2.769737e-07   \n",
       "\n",
       "      num_var_6     num_var_7  cat_var_1  cat_var_2  cat_var_3     ...      \\\n",
       "0  2.368421e-08  1.115205e-08          0          3         75     ...       \n",
       "1  7.965789e-06  2.433058e-06         66         50        607     ...       \n",
       "2  1.052632e-07  4.276014e-07        128          3        158     ...       \n",
       "3  2.190789e-07  1.848054e-08          0          3        140     ...       \n",
       "4  3.340789e-06  2.152983e-06         66         50        609     ...       \n",
       "\n",
       "   cat_var_33  cat_var_34  cat_var_35  cat_var_36  cat_var_37  cat_var_38  \\\n",
       "0           0           0           0           0           0           0   \n",
       "1           0           0           0           0           0           0   \n",
       "2           0           0           0           0           0           0   \n",
       "3           0           0           0           0           0           0   \n",
       "4           0           0           0           0           0           0   \n",
       "\n",
       "   cat_var_39  cat_var_40  cat_var_41  cat_var_42  \n",
       "0           0           0           0           0  \n",
       "1           0           0           0           0  \n",
       "2           0           0           0           0  \n",
       "3           0           0           0           0  \n",
       "4           0           0           0           0  \n",
       "\n",
       "[5 rows x 49 columns]"
      ]
     },
     "execution_count": 16,
     "metadata": {},
     "output_type": "execute_result"
    }
   ],
   "source": [
    "train_data.head()"
   ]
  },
  {
   "cell_type": "code",
   "execution_count": null,
   "metadata": {
    "collapsed": true
   },
   "outputs": [],
   "source": []
  },
  {
   "cell_type": "code",
   "execution_count": 17,
   "metadata": {
    "collapsed": true
   },
   "outputs": [],
   "source": [
    "# from sklearn.preprocessing import StandardScaler"
   ]
  },
  {
   "cell_type": "code",
   "execution_count": 18,
   "metadata": {
    "collapsed": true
   },
   "outputs": [],
   "source": [
    "# scaler = StandardScaler()"
   ]
  },
  {
   "cell_type": "code",
   "execution_count": 19,
   "metadata": {
    "collapsed": true
   },
   "outputs": [],
   "source": [
    "# train_data = scaler.fit_transform(train_data)\n",
    "# test_data = scaler.fit_transform(test_data)"
   ]
  },
  {
   "cell_type": "code",
   "execution_count": null,
   "metadata": {
    "collapsed": true
   },
   "outputs": [],
   "source": []
  },
  {
   "cell_type": "code",
   "execution_count": null,
   "metadata": {
    "collapsed": true
   },
   "outputs": [],
   "source": []
  },
  {
   "cell_type": "code",
   "execution_count": null,
   "metadata": {
    "collapsed": true
   },
   "outputs": [],
   "source": []
  },
  {
   "cell_type": "code",
   "execution_count": null,
   "metadata": {
    "collapsed": true
   },
   "outputs": [],
   "source": []
  },
  {
   "cell_type": "raw",
   "metadata": {},
   "source": []
  },
  {
   "cell_type": "code",
   "execution_count": null,
   "metadata": {
    "collapsed": true
   },
   "outputs": [],
   "source": []
  },
  {
   "cell_type": "code",
   "execution_count": 20,
   "metadata": {},
   "outputs": [
    {
     "name": "stderr",
     "output_type": "stream",
     "text": [
      "C:\\Users\\windo\\Anaconda3\\lib\\site-packages\\sklearn\\cross_validation.py:44: DeprecationWarning: This module was deprecated in version 0.18 in favor of the model_selection module into which all the refactored classes and functions are moved. Also note that the interface of the new CV iterators are different from that of this module. This module will be removed in 0.20.\n",
      "  \"This module will be removed in 0.20.\", DeprecationWarning)\n"
     ]
    }
   ],
   "source": [
    "from sklearn.cross_validation import train_test_split\n",
    "from sklearn.tree import DecisionTreeClassifier\n",
    "from sklearn.metrics import accuracy_score, roc_auc_score"
   ]
  },
  {
   "cell_type": "code",
   "execution_count": 21,
   "metadata": {
    "collapsed": true
   },
   "outputs": [],
   "source": [
    "xtrain, xtest, ytrain, ytest = train_test_split(train_data, target, test_size = 0.1, random_state=42)"
   ]
  },
  {
   "cell_type": "code",
   "execution_count": 22,
   "metadata": {},
   "outputs": [
    {
     "data": {
      "text/plain": [
       "(34898, 49)"
      ]
     },
     "execution_count": 22,
     "metadata": {},
     "output_type": "execute_result"
    }
   ],
   "source": [
    "xtest.shape"
   ]
  },
  {
   "cell_type": "code",
   "execution_count": 23,
   "metadata": {
    "collapsed": true
   },
   "outputs": [],
   "source": [
    "clf = DecisionTreeClassifier()"
   ]
  },
  {
   "cell_type": "code",
   "execution_count": 24,
   "metadata": {},
   "outputs": [
    {
     "data": {
      "text/plain": [
       "0.89982233938907674"
      ]
     },
     "execution_count": 24,
     "metadata": {},
     "output_type": "execute_result"
    }
   ],
   "source": [
    "clf.fit(xtrain, ytrain)\n",
    "clf.score(xtest, ytest)"
   ]
  },
  {
   "cell_type": "code",
   "execution_count": 25,
   "metadata": {
    "collapsed": true
   },
   "outputs": [],
   "source": [
    "pred = clf.predict(test_data)"
   ]
  },
  {
   "cell_type": "code",
   "execution_count": 26,
   "metadata": {},
   "outputs": [
    {
     "name": "stdout",
     "output_type": "stream",
     "text": [
      "0.899822339389\n"
     ]
    }
   ],
   "source": [
    "print(accuracy_score(clf.predict(xtest), ytest))"
   ]
  },
  {
   "cell_type": "code",
   "execution_count": 27,
   "metadata": {},
   "outputs": [
    {
     "name": "stdout",
     "output_type": "stream",
     "text": [
      "0.737614127776\n"
     ]
    }
   ],
   "source": [
    "print(roc_auc_score(clf.predict(xtest), ytest))"
   ]
  },
  {
   "cell_type": "code",
   "execution_count": null,
   "metadata": {
    "collapsed": true
   },
   "outputs": [],
   "source": []
  },
  {
   "cell_type": "code",
   "execution_count": null,
   "metadata": {
    "collapsed": true
   },
   "outputs": [],
   "source": []
  },
  {
   "cell_type": "code",
   "execution_count": null,
   "metadata": {
    "collapsed": true
   },
   "outputs": [],
   "source": []
  },
  {
   "cell_type": "code",
   "execution_count": 64,
   "metadata": {
    "collapsed": true
   },
   "outputs": [],
   "source": [
    "# sub = pd.read_csv('sample_submissions.csv')\n",
    "test = pd.read_csv('test.csv')"
   ]
  },
  {
   "cell_type": "code",
   "execution_count": 126,
   "metadata": {},
   "outputs": [
    {
     "data": {
      "text/html": [
       "<div>\n",
       "<style>\n",
       "    .dataframe thead tr:only-child th {\n",
       "        text-align: right;\n",
       "    }\n",
       "\n",
       "    .dataframe thead th {\n",
       "        text-align: left;\n",
       "    }\n",
       "\n",
       "    .dataframe tbody tr th {\n",
       "        vertical-align: top;\n",
       "    }\n",
       "</style>\n",
       "<table border=\"1\" class=\"dataframe\">\n",
       "  <thead>\n",
       "    <tr style=\"text-align: right;\">\n",
       "      <th></th>\n",
       "      <th>target</th>\n",
       "      <th>transaction_id</th>\n",
       "    </tr>\n",
       "  </thead>\n",
       "  <tbody>\n",
       "    <tr>\n",
       "      <th>0</th>\n",
       "      <td>0</td>\n",
       "      <td>id_1</td>\n",
       "    </tr>\n",
       "    <tr>\n",
       "      <th>1</th>\n",
       "      <td>0</td>\n",
       "      <td>id_6</td>\n",
       "    </tr>\n",
       "    <tr>\n",
       "      <th>2</th>\n",
       "      <td>0</td>\n",
       "      <td>id_9</td>\n",
       "    </tr>\n",
       "    <tr>\n",
       "      <th>3</th>\n",
       "      <td>0</td>\n",
       "      <td>id_14</td>\n",
       "    </tr>\n",
       "    <tr>\n",
       "      <th>4</th>\n",
       "      <td>0</td>\n",
       "      <td>id_15</td>\n",
       "    </tr>\n",
       "  </tbody>\n",
       "</table>\n",
       "</div>"
      ],
      "text/plain": [
       "   target transaction_id\n",
       "0       0           id_1\n",
       "1       0           id_6\n",
       "2       0           id_9\n",
       "3       0          id_14\n",
       "4       0          id_15"
      ]
     },
     "execution_count": 126,
     "metadata": {},
     "output_type": "execute_result"
    }
   ],
   "source": [
    "df = pd.DataFrame(data = {'transaction_id':test.transaction_id, 'target':pred43})\n",
    "df.head()"
   ]
  },
  {
   "cell_type": "code",
   "execution_count": 127,
   "metadata": {
    "collapsed": true
   },
   "outputs": [],
   "source": [
    "del df['target']"
   ]
  },
  {
   "cell_type": "code",
   "execution_count": 128,
   "metadata": {
    "collapsed": true
   },
   "outputs": [],
   "source": [
    "df['target'] = pred43"
   ]
  },
  {
   "cell_type": "code",
   "execution_count": 129,
   "metadata": {},
   "outputs": [
    {
     "data": {
      "text/html": [
       "<div>\n",
       "<style>\n",
       "    .dataframe thead tr:only-child th {\n",
       "        text-align: right;\n",
       "    }\n",
       "\n",
       "    .dataframe thead th {\n",
       "        text-align: left;\n",
       "    }\n",
       "\n",
       "    .dataframe tbody tr th {\n",
       "        vertical-align: top;\n",
       "    }\n",
       "</style>\n",
       "<table border=\"1\" class=\"dataframe\">\n",
       "  <thead>\n",
       "    <tr style=\"text-align: right;\">\n",
       "      <th></th>\n",
       "      <th>transaction_id</th>\n",
       "      <th>target</th>\n",
       "    </tr>\n",
       "  </thead>\n",
       "  <tbody>\n",
       "    <tr>\n",
       "      <th>0</th>\n",
       "      <td>id_1</td>\n",
       "      <td>0</td>\n",
       "    </tr>\n",
       "    <tr>\n",
       "      <th>1</th>\n",
       "      <td>id_6</td>\n",
       "      <td>0</td>\n",
       "    </tr>\n",
       "    <tr>\n",
       "      <th>2</th>\n",
       "      <td>id_9</td>\n",
       "      <td>0</td>\n",
       "    </tr>\n",
       "    <tr>\n",
       "      <th>3</th>\n",
       "      <td>id_14</td>\n",
       "      <td>0</td>\n",
       "    </tr>\n",
       "    <tr>\n",
       "      <th>4</th>\n",
       "      <td>id_15</td>\n",
       "      <td>0</td>\n",
       "    </tr>\n",
       "  </tbody>\n",
       "</table>\n",
       "</div>"
      ],
      "text/plain": [
       "  transaction_id  target\n",
       "0           id_1       0\n",
       "1           id_6       0\n",
       "2           id_9       0\n",
       "3          id_14       0\n",
       "4          id_15       0"
      ]
     },
     "execution_count": 129,
     "metadata": {},
     "output_type": "execute_result"
    }
   ],
   "source": [
    "df.head()"
   ]
  },
  {
   "cell_type": "code",
   "execution_count": 130,
   "metadata": {
    "collapsed": true
   },
   "outputs": [],
   "source": [
    "df.to_csv('submission7.csv', index=False)"
   ]
  },
  {
   "cell_type": "code",
   "execution_count": 131,
   "metadata": {},
   "outputs": [
    {
     "data": {
      "text/html": [
       "<div>\n",
       "<style>\n",
       "    .dataframe thead tr:only-child th {\n",
       "        text-align: right;\n",
       "    }\n",
       "\n",
       "    .dataframe thead th {\n",
       "        text-align: left;\n",
       "    }\n",
       "\n",
       "    .dataframe tbody tr th {\n",
       "        vertical-align: top;\n",
       "    }\n",
       "</style>\n",
       "<table border=\"1\" class=\"dataframe\">\n",
       "  <thead>\n",
       "    <tr style=\"text-align: right;\">\n",
       "      <th></th>\n",
       "      <th>transaction_id</th>\n",
       "      <th>target</th>\n",
       "    </tr>\n",
       "  </thead>\n",
       "  <tbody>\n",
       "    <tr>\n",
       "      <th>0</th>\n",
       "      <td>id_1</td>\n",
       "      <td>0</td>\n",
       "    </tr>\n",
       "    <tr>\n",
       "      <th>1</th>\n",
       "      <td>id_6</td>\n",
       "      <td>0</td>\n",
       "    </tr>\n",
       "    <tr>\n",
       "      <th>2</th>\n",
       "      <td>id_9</td>\n",
       "      <td>0</td>\n",
       "    </tr>\n",
       "    <tr>\n",
       "      <th>3</th>\n",
       "      <td>id_14</td>\n",
       "      <td>0</td>\n",
       "    </tr>\n",
       "    <tr>\n",
       "      <th>4</th>\n",
       "      <td>id_15</td>\n",
       "      <td>0</td>\n",
       "    </tr>\n",
       "  </tbody>\n",
       "</table>\n",
       "</div>"
      ],
      "text/plain": [
       "  transaction_id  target\n",
       "0           id_1       0\n",
       "1           id_6       0\n",
       "2           id_9       0\n",
       "3          id_14       0\n",
       "4          id_15       0"
      ]
     },
     "execution_count": 131,
     "metadata": {},
     "output_type": "execute_result"
    }
   ],
   "source": [
    "df1 = pd.read_csv('submission7.csv')\n",
    "df1.head()"
   ]
  },
  {
   "cell_type": "code",
   "execution_count": null,
   "metadata": {
    "collapsed": true
   },
   "outputs": [],
   "source": []
  },
  {
   "cell_type": "code",
   "execution_count": null,
   "metadata": {
    "collapsed": true
   },
   "outputs": [],
   "source": []
  },
  {
   "cell_type": "code",
   "execution_count": null,
   "metadata": {
    "collapsed": true
   },
   "outputs": [],
   "source": []
  },
  {
   "cell_type": "code",
   "execution_count": null,
   "metadata": {
    "collapsed": true
   },
   "outputs": [],
   "source": []
  },
  {
   "cell_type": "code",
   "execution_count": 28,
   "metadata": {
    "collapsed": true
   },
   "outputs": [],
   "source": [
    "from sklearn.ensemble import RandomForestClassifier"
   ]
  },
  {
   "cell_type": "code",
   "execution_count": 29,
   "metadata": {
    "collapsed": true
   },
   "outputs": [],
   "source": [
    "random_forest = RandomForestClassifier(n_estimators=20)"
   ]
  },
  {
   "cell_type": "code",
   "execution_count": 30,
   "metadata": {},
   "outputs": [
    {
     "data": {
      "text/plain": [
       "0.92867786119548401"
      ]
     },
     "execution_count": 30,
     "metadata": {},
     "output_type": "execute_result"
    }
   ],
   "source": [
    "random_forest.fit(xtrain, ytrain)\n",
    "random_forest.score(xtest, ytest)"
   ]
  },
  {
   "cell_type": "code",
   "execution_count": 31,
   "metadata": {
    "collapsed": true
   },
   "outputs": [],
   "source": [
    "pred2 = random_forest.predict(test_data)"
   ]
  },
  {
   "cell_type": "code",
   "execution_count": 32,
   "metadata": {},
   "outputs": [
    {
     "name": "stdout",
     "output_type": "stream",
     "text": [
      "0.928677861195\n",
      "0.923657371587\n"
     ]
    }
   ],
   "source": [
    "print(accuracy_score(random_forest.predict(xtest), ytest))\n",
    "print(roc_auc_score(random_forest.predict(xtest), ytest))"
   ]
  },
  {
   "cell_type": "code",
   "execution_count": null,
   "metadata": {
    "collapsed": true
   },
   "outputs": [],
   "source": []
  },
  {
   "cell_type": "code",
   "execution_count": null,
   "metadata": {
    "collapsed": true
   },
   "outputs": [],
   "source": []
  },
  {
   "cell_type": "code",
   "execution_count": null,
   "metadata": {
    "collapsed": true
   },
   "outputs": [],
   "source": []
  },
  {
   "cell_type": "code",
   "execution_count": null,
   "metadata": {
    "collapsed": true
   },
   "outputs": [],
   "source": []
  },
  {
   "cell_type": "code",
   "execution_count": null,
   "metadata": {
    "collapsed": true
   },
   "outputs": [],
   "source": []
  },
  {
   "cell_type": "code",
   "execution_count": 33,
   "metadata": {
    "collapsed": true
   },
   "outputs": [],
   "source": [
    "from sklearn.ensemble import ExtraTreesClassifier"
   ]
  },
  {
   "cell_type": "code",
   "execution_count": 38,
   "metadata": {
    "collapsed": true
   },
   "outputs": [],
   "source": [
    "extra_tree = ExtraTreesClassifier(n_estimators=50)"
   ]
  },
  {
   "cell_type": "code",
   "execution_count": 39,
   "metadata": {},
   "outputs": [
    {
     "data": {
      "text/plain": [
       "0.91884921772021322"
      ]
     },
     "execution_count": 39,
     "metadata": {},
     "output_type": "execute_result"
    }
   ],
   "source": [
    "extra_tree.fit(xtrain, ytrain)\n",
    "extra_tree.score(xtest, ytest)"
   ]
  },
  {
   "cell_type": "code",
   "execution_count": 40,
   "metadata": {
    "collapsed": true
   },
   "outputs": [],
   "source": [
    "pred3 = extra_tree.predict(test_data)"
   ]
  },
  {
   "cell_type": "code",
   "execution_count": 41,
   "metadata": {},
   "outputs": [
    {
     "name": "stdout",
     "output_type": "stream",
     "text": [
      "0.91884921772\n",
      "0.839091321439\n"
     ]
    }
   ],
   "source": [
    "print(accuracy_score(extra_tree.predict(xtest), ytest))\n",
    "print(roc_auc_score(extra_tree.predict(xtest), ytest))"
   ]
  },
  {
   "cell_type": "code",
   "execution_count": null,
   "metadata": {
    "collapsed": true
   },
   "outputs": [],
   "source": []
  },
  {
   "cell_type": "code",
   "execution_count": null,
   "metadata": {
    "collapsed": true
   },
   "outputs": [],
   "source": []
  },
  {
   "cell_type": "code",
   "execution_count": null,
   "metadata": {
    "collapsed": true
   },
   "outputs": [],
   "source": []
  },
  {
   "cell_type": "code",
   "execution_count": null,
   "metadata": {
    "collapsed": true
   },
   "outputs": [],
   "source": []
  },
  {
   "cell_type": "code",
   "execution_count": 42,
   "metadata": {
    "collapsed": true
   },
   "outputs": [],
   "source": [
    "from sklearn.ensemble import BaggingClassifier"
   ]
  },
  {
   "cell_type": "code",
   "execution_count": 122,
   "metadata": {
    "collapsed": true
   },
   "outputs": [],
   "source": [
    "forest = RandomForestClassifier(n_estimators=20)\n",
    "KNN = KNeighborsClassifier()\n",
    "bag = BaggingClassifier(base_estimator = KNN, n_estimators=10, max_samples=0.5, verbose=1)"
   ]
  },
  {
   "cell_type": "code",
   "execution_count": 123,
   "metadata": {},
   "outputs": [
    {
     "name": "stderr",
     "output_type": "stream",
     "text": [
      "[Parallel(n_jobs=1)]: Done   1 out of   1 | elapsed:  2.3min finished\n",
      "[Parallel(n_jobs=1)]: Done   1 out of   1 | elapsed:  1.6min finished\n"
     ]
    },
    {
     "data": {
      "text/plain": [
       "0.91351939939251536"
      ]
     },
     "execution_count": 123,
     "metadata": {},
     "output_type": "execute_result"
    }
   ],
   "source": [
    "bag.fit(xtrain, ytrain)\n",
    "bag.score(xtest, ytest)"
   ]
  },
  {
   "cell_type": "code",
   "execution_count": 124,
   "metadata": {},
   "outputs": [
    {
     "name": "stderr",
     "output_type": "stream",
     "text": [
      "[Parallel(n_jobs=1)]: Done   1 out of   1 | elapsed: 23.0min finished\n"
     ]
    }
   ],
   "source": [
    "# pred4 = bag.predict(test_data)\n",
    "# pred41 = bag.predict(test_data)\n",
    "# pred42 = bag.predict(test_data)\n",
    "pred43 = bag.predict(test_data)"
   ]
  },
  {
   "cell_type": "code",
   "execution_count": 125,
   "metadata": {},
   "outputs": [
    {
     "name": "stderr",
     "output_type": "stream",
     "text": [
      "[Parallel(n_jobs=1)]: Done   1 out of   1 | elapsed:  1.6min finished\n"
     ]
    },
    {
     "name": "stdout",
     "output_type": "stream",
     "text": [
      "0.913519399393\n",
      "0.915892827948\n"
     ]
    },
    {
     "name": "stderr",
     "output_type": "stream",
     "text": [
      "[Parallel(n_jobs=1)]: Done   1 out of   1 | elapsed:  1.6min finished\n"
     ]
    }
   ],
   "source": [
    "print(accuracy_score(bag.predict(xtest), ytest))\n",
    "print(roc_auc_score(bag.predict(xtest), ytest))"
   ]
  },
  {
   "cell_type": "code",
   "execution_count": null,
   "metadata": {
    "collapsed": true
   },
   "outputs": [],
   "source": []
  },
  {
   "cell_type": "code",
   "execution_count": null,
   "metadata": {
    "collapsed": true
   },
   "outputs": [],
   "source": []
  },
  {
   "cell_type": "code",
   "execution_count": null,
   "metadata": {
    "collapsed": true
   },
   "outputs": [],
   "source": []
  },
  {
   "cell_type": "code",
   "execution_count": null,
   "metadata": {
    "collapsed": true
   },
   "outputs": [],
   "source": []
  },
  {
   "cell_type": "code",
   "execution_count": null,
   "metadata": {
    "collapsed": true
   },
   "outputs": [],
   "source": []
  },
  {
   "cell_type": "code",
   "execution_count": 47,
   "metadata": {
    "collapsed": true
   },
   "outputs": [],
   "source": [
    "from sklearn.ensemble import AdaBoostClassifier"
   ]
  },
  {
   "cell_type": "code",
   "execution_count": 58,
   "metadata": {
    "collapsed": true
   },
   "outputs": [],
   "source": [
    "forest = RandomForestClassifier()\n",
    "ada = AdaBoostClassifier(base_estimator=forest, n_estimators=100)"
   ]
  },
  {
   "cell_type": "code",
   "execution_count": 59,
   "metadata": {},
   "outputs": [
    {
     "data": {
      "text/plain": [
       "0.91369132901598948"
      ]
     },
     "execution_count": 59,
     "metadata": {},
     "output_type": "execute_result"
    }
   ],
   "source": [
    "ada.fit(xtrain, ytrain)\n",
    "ada.score(xtest, ytest)"
   ]
  },
  {
   "cell_type": "code",
   "execution_count": 60,
   "metadata": {
    "collapsed": true
   },
   "outputs": [],
   "source": [
    "pred5 = ada.predict(test_data)"
   ]
  },
  {
   "cell_type": "code",
   "execution_count": 61,
   "metadata": {},
   "outputs": [
    {
     "name": "stdout",
     "output_type": "stream",
     "text": [
      "0.913691329016\n",
      "0.803164647702\n"
     ]
    }
   ],
   "source": [
    "print(accuracy_score(ada.predict(xtest), ytest))\n",
    "print(roc_auc_score(ada.predict(xtest), ytest))"
   ]
  },
  {
   "cell_type": "code",
   "execution_count": null,
   "metadata": {
    "collapsed": true
   },
   "outputs": [],
   "source": []
  },
  {
   "cell_type": "code",
   "execution_count": null,
   "metadata": {
    "collapsed": true
   },
   "outputs": [],
   "source": []
  },
  {
   "cell_type": "code",
   "execution_count": null,
   "metadata": {
    "collapsed": true
   },
   "outputs": [],
   "source": []
  },
  {
   "cell_type": "code",
   "execution_count": null,
   "metadata": {
    "collapsed": true
   },
   "outputs": [],
   "source": []
  },
  {
   "cell_type": "code",
   "execution_count": null,
   "metadata": {
    "collapsed": true
   },
   "outputs": [],
   "source": []
  },
  {
   "cell_type": "code",
   "execution_count": null,
   "metadata": {
    "collapsed": true
   },
   "outputs": [],
   "source": []
  },
  {
   "cell_type": "code",
   "execution_count": null,
   "metadata": {
    "collapsed": true
   },
   "outputs": [],
   "source": []
  },
  {
   "cell_type": "code",
   "execution_count": 52,
   "metadata": {
    "collapsed": true
   },
   "outputs": [],
   "source": [
    "from sklearn.ensemble import GradientBoostingClassifier"
   ]
  },
  {
   "cell_type": "code",
   "execution_count": 110,
   "metadata": {},
   "outputs": [],
   "source": [
    "grad = GradientBoostingClassifier()"
   ]
  },
  {
   "cell_type": "code",
   "execution_count": 54,
   "metadata": {},
   "outputs": [
    {
     "data": {
      "text/plain": [
       "0.91735916098343739"
      ]
     },
     "execution_count": 54,
     "metadata": {},
     "output_type": "execute_result"
    }
   ],
   "source": [
    "grad.fit(xtrain, ytrain)\n",
    "grad.score(xtest, ytest)"
   ]
  },
  {
   "cell_type": "code",
   "execution_count": 55,
   "metadata": {
    "collapsed": true
   },
   "outputs": [],
   "source": [
    "pred6 = grad.predict(test_data)"
   ]
  },
  {
   "cell_type": "code",
   "execution_count": 56,
   "metadata": {},
   "outputs": [
    {
     "name": "stdout",
     "output_type": "stream",
     "text": [
      "0.917359160983\n",
      "0.9309057235\n"
     ]
    }
   ],
   "source": [
    "print(accuracy_score(grad.predict(xtest), ytest))\n",
    "print(roc_auc_score(grad.predict(xtest), ytest))"
   ]
  },
  {
   "cell_type": "code",
   "execution_count": null,
   "metadata": {
    "collapsed": true
   },
   "outputs": [],
   "source": []
  },
  {
   "cell_type": "code",
   "execution_count": null,
   "metadata": {
    "collapsed": true
   },
   "outputs": [],
   "source": []
  },
  {
   "cell_type": "code",
   "execution_count": null,
   "metadata": {
    "collapsed": true
   },
   "outputs": [],
   "source": []
  },
  {
   "cell_type": "code",
   "execution_count": null,
   "metadata": {
    "collapsed": true
   },
   "outputs": [],
   "source": []
  },
  {
   "cell_type": "code",
   "execution_count": null,
   "metadata": {
    "collapsed": true
   },
   "outputs": [],
   "source": []
  },
  {
   "cell_type": "code",
   "execution_count": null,
   "metadata": {
    "collapsed": true
   },
   "outputs": [],
   "source": []
  },
  {
   "cell_type": "code",
   "execution_count": null,
   "metadata": {
    "collapsed": true
   },
   "outputs": [],
   "source": []
  },
  {
   "cell_type": "code",
   "execution_count": 111,
   "metadata": {
    "collapsed": true
   },
   "outputs": [],
   "source": [
    "from sklearn.neighbors import KNeighborsClassifier\n",
    "# from sklearn.model_selection import GridSearchCV"
   ]
  },
  {
   "cell_type": "code",
   "execution_count": 116,
   "metadata": {},
   "outputs": [
    {
     "data": {
      "text/plain": [
       "KNeighborsClassifier(algorithm='auto', leaf_size=30, metric='minkowski',\n",
       "           metric_params=None, n_jobs=1, n_neighbors=5, p=2,\n",
       "           weights='uniform')"
      ]
     },
     "execution_count": 116,
     "metadata": {},
     "output_type": "execute_result"
    }
   ],
   "source": [
    "KNN = KNeighborsClassifier(n_neighbors=5)\n",
    "KNN.fit(xtrain, ytrain)"
   ]
  },
  {
   "cell_type": "code",
   "execution_count": 117,
   "metadata": {},
   "outputs": [
    {
     "data": {
      "text/plain": [
       "0.90604046077139089"
      ]
     },
     "execution_count": 117,
     "metadata": {},
     "output_type": "execute_result"
    }
   ],
   "source": [
    "KNN.score(xtest, ytest)"
   ]
  },
  {
   "cell_type": "code",
   "execution_count": null,
   "metadata": {
    "collapsed": true
   },
   "outputs": [],
   "source": [
    "pred3 = KNN.predict(test_data)"
   ]
  },
  {
   "cell_type": "code",
   "execution_count": null,
   "metadata": {
    "collapsed": true
   },
   "outputs": [],
   "source": [
    "print(accuracy_score(KNN.predict(xtest), ytest))\n",
    "print(roc_auc_score(KNN.predict(xtest), ytest))"
   ]
  },
  {
   "cell_type": "code",
   "execution_count": null,
   "metadata": {
    "collapsed": true
   },
   "outputs": [],
   "source": [
    "2"
   ]
  },
  {
   "cell_type": "code",
   "execution_count": null,
   "metadata": {
    "collapsed": true
   },
   "outputs": [],
   "source": []
  },
  {
   "cell_type": "code",
   "execution_count": null,
   "metadata": {
    "collapsed": true
   },
   "outputs": [],
   "source": []
  },
  {
   "cell_type": "code",
   "execution_count": null,
   "metadata": {
    "collapsed": true
   },
   "outputs": [],
   "source": []
  },
  {
   "cell_type": "code",
   "execution_count": null,
   "metadata": {
    "collapsed": true
   },
   "outputs": [],
   "source": []
  },
  {
   "cell_type": "code",
   "execution_count": null,
   "metadata": {
    "collapsed": true
   },
   "outputs": [],
   "source": []
  },
  {
   "cell_type": "code",
   "execution_count": null,
   "metadata": {
    "collapsed": true
   },
   "outputs": [],
   "source": []
  },
  {
   "cell_type": "code",
   "execution_count": null,
   "metadata": {
    "collapsed": true
   },
   "outputs": [],
   "source": [
    "from sklearn.svm import SVC\n",
    "from sklearn.model_selection import GridSearchCV"
   ]
  },
  {
   "cell_type": "code",
   "execution_count": null,
   "metadata": {
    "collapsed": true
   },
   "outputs": [],
   "source": [
    "from time import time"
   ]
  },
  {
   "cell_type": "code",
   "execution_count": null,
   "metadata": {},
   "outputs": [],
   "source": [
    "print(\"Fitting the classifier to the training set\")\n",
    "t0 = time()\n",
    "param_grid = {'C': [1e3, 5e3, 1e4, 5e4, 1e5],\n",
    "              'gamma': [0.0001, 0.0005, 0.001, 0.005, 0.01, 0.1], }\n",
    "clf = GridSearchCV(SVC(kernel='rbf', class_weight='balanced'), param_grid)\n",
    "clf = clf.fit(xtrain, ytrain)\n",
    "print(\"done in %0.3fs\" % (time() - t0))\n",
    "print(\"Best estimator found by grid search:\")\n",
    "print(clf.best_estimator_)"
   ]
  },
  {
   "cell_type": "code",
   "execution_count": null,
   "metadata": {
    "collapsed": true
   },
   "outputs": [],
   "source": [
    "svc = SVC(kernel = 'linear', C=5)"
   ]
  },
  {
   "cell_type": "code",
   "execution_count": null,
   "metadata": {},
   "outputs": [],
   "source": [
    "svc.fit(xtrain[:1000], ytrain[:1000])\n",
    "svc.score(xtest[:500], ytest[:500])"
   ]
  },
  {
   "cell_type": "code",
   "execution_count": null,
   "metadata": {
    "collapsed": true
   },
   "outputs": [],
   "source": []
  },
  {
   "cell_type": "code",
   "execution_count": 86,
   "metadata": {},
   "outputs": [
    {
     "name": "stderr",
     "output_type": "stream",
     "text": [
      "Using TensorFlow backend.\n"
     ]
    }
   ],
   "source": [
    "import keras"
   ]
  },
  {
   "cell_type": "code",
   "execution_count": 87,
   "metadata": {
    "collapsed": true
   },
   "outputs": [],
   "source": [
    "from keras.models import Sequential\n",
    "from keras.layers import Dense, Activation, Dropout, Conv2D, MaxPooling2D, Flatten\n",
    "from keras.optimizers import Adam"
   ]
  },
  {
   "cell_type": "code",
   "execution_count": 88,
   "metadata": {
    "collapsed": true
   },
   "outputs": [],
   "source": [
    "x_train = np.array(xtrain)\n",
    "y_train = np.array(ytrain)\n",
    "\n",
    "x_test = np.array(xtest)\n",
    "y_test = np.array(ytest)"
   ]
  },
  {
   "cell_type": "code",
   "execution_count": 90,
   "metadata": {
    "scrolled": false
   },
   "outputs": [
    {
     "name": "stdout",
     "output_type": "stream",
     "text": [
      "_________________________________________________________________\n",
      "Layer (type)                 Output Shape              Param #   \n",
      "=================================================================\n",
      "dense_2 (Dense)              (None, 32)                1600      \n",
      "_________________________________________________________________\n",
      "dense_3 (Dense)              (None, 32)                1056      \n",
      "_________________________________________________________________\n",
      "dense_4 (Dense)              (None, 1)                 33        \n",
      "=================================================================\n",
      "Total params: 2,689\n",
      "Trainable params: 2,689\n",
      "Non-trainable params: 0\n",
      "_________________________________________________________________\n"
     ]
    }
   ],
   "source": [
    "model = Sequential()\n",
    "\n",
    "model.add(Dense(32, input_dim = 49, activation='relu'))\n",
    "model.add(Dense(32, activation='relu'))\n",
    "model.add(Dense(1, activation='sigmoid'))\n",
    "model.summary()"
   ]
  },
  {
   "cell_type": "code",
   "execution_count": 91,
   "metadata": {},
   "outputs": [
    {
     "name": "stdout",
     "output_type": "stream",
     "text": [
      "Train on 314080 samples, validate on 34898 samples\n",
      "Epoch 1/10\n",
      "314080/314080 [==============================] - 34s - loss: 1.1110 - acc: 0.8986 - val_loss: 0.3024 - val_acc: 0.9095\n",
      "Epoch 2/10\n",
      "314080/314080 [==============================] - 32s - loss: 0.2934 - acc: 0.9127 - val_loss: 0.2947 - val_acc: 0.9104\n",
      "Epoch 3/10\n",
      "314080/314080 [==============================] - 32s - loss: 0.2912 - acc: 0.9123 - val_loss: 0.2945 - val_acc: 0.9115\n",
      "Epoch 4/10\n",
      "314080/314080 [==============================] - 32s - loss: 0.2894 - acc: 0.9131 - val_loss: 0.2925 - val_acc: 0.9114\n",
      "Epoch 5/10\n",
      "314080/314080 [==============================] - 32s - loss: 0.2891 - acc: 0.9129 - val_loss: 0.2903 - val_acc: 0.9122\n",
      "Epoch 6/10\n",
      "314080/314080 [==============================] - 32s - loss: 0.2883 - acc: 0.9132 - val_loss: 0.2948 - val_acc: 0.9122\n",
      "Epoch 7/10\n",
      "314080/314080 [==============================] - 32s - loss: 0.2883 - acc: 0.9130 - val_loss: 0.2897 - val_acc: 0.9120\n",
      "Epoch 8/10\n",
      "314080/314080 [==============================] - 32s - loss: 0.2878 - acc: 0.9132 - val_loss: 0.2901 - val_acc: 0.9121\n",
      "Epoch 9/10\n",
      "314080/314080 [==============================] - 32s - loss: 0.2874 - acc: 0.9133 - val_loss: 0.2958 - val_acc: 0.9110\n",
      "Epoch 10/10\n",
      "314080/314080 [==============================] - 33s - loss: 0.2872 - acc: 0.9133 - val_loss: 0.2905 - val_acc: 0.9115\n"
     ]
    },
    {
     "data": {
      "text/plain": [
       "<keras.callbacks.History at 0x17088287a20>"
      ]
     },
     "execution_count": 91,
     "metadata": {},
     "output_type": "execute_result"
    }
   ],
   "source": [
    "ad = Adam()\n",
    "model.compile(loss='binary_crossentropy', optimizer=ad, metrics=['accuracy'])\n",
    "model.fit(x_train, ytrain, epochs=10, batch_size=10, validation_data=(x_test, ytest))"
   ]
  },
  {
   "cell_type": "code",
   "execution_count": null,
   "metadata": {
    "collapsed": true
   },
   "outputs": [],
   "source": []
  },
  {
   "cell_type": "code",
   "execution_count": 92,
   "metadata": {},
   "outputs": [
    {
     "name": "stdout",
     "output_type": "stream",
     "text": [
      "31968/34898 [==========================>...] - ETA: 0s"
     ]
    },
    {
     "data": {
      "text/plain": [
       "[0.29050203937672292, 0.9115422087259788]"
      ]
     },
     "execution_count": 92,
     "metadata": {},
     "output_type": "execute_result"
    }
   ],
   "source": [
    "model.evaluate(x_test, y_test)"
   ]
  },
  {
   "cell_type": "code",
   "execution_count": 94,
   "metadata": {
    "collapsed": true
   },
   "outputs": [],
   "source": [
    "test_data = np.array(test_data)"
   ]
  },
  {
   "cell_type": "code",
   "execution_count": 96,
   "metadata": {},
   "outputs": [
    {
     "name": "stdout",
     "output_type": "stream",
     "text": [
      "521056/523466 [============================>.] - ETA: 0s"
     ]
    },
    {
     "data": {
      "text/plain": [
       "array([[0],\n",
       "       [0],\n",
       "       [0],\n",
       "       ..., \n",
       "       [0],\n",
       "       [0],\n",
       "       [0]])"
      ]
     },
     "execution_count": 96,
     "metadata": {},
     "output_type": "execute_result"
    }
   ],
   "source": [
    "pred = model.predict_classes(test_data)\n",
    "pred"
   ]
  },
  {
   "cell_type": "code",
   "execution_count": 103,
   "metadata": {},
   "outputs": [],
   "source": [
    "pred = pred.reshape((523466))"
   ]
  },
  {
   "cell_type": "code",
   "execution_count": 98,
   "metadata": {},
   "outputs": [
    {
     "name": "stdout",
     "output_type": "stream",
     "text": [
      "32672/34898 [===========================>..] - ETA: 0s"
     ]
    }
   ],
   "source": [
    "predict =model.predict_classes(x_test)"
   ]
  },
  {
   "cell_type": "code",
   "execution_count": 100,
   "metadata": {},
   "outputs": [
    {
     "data": {
      "text/plain": [
       "0.94627879555022942"
      ]
     },
     "execution_count": 100,
     "metadata": {},
     "output_type": "execute_result"
    }
   ],
   "source": [
    "roc_auc_score(predict, ytest)"
   ]
  },
  {
   "cell_type": "code",
   "execution_count": null,
   "metadata": {
    "collapsed": true
   },
   "outputs": [],
   "source": []
  }
 ],
 "metadata": {
  "kernelspec": {
   "display_name": "Python 3",
   "language": "python",
   "name": "python3"
  },
  "language_info": {
   "codemirror_mode": {
    "name": "ipython",
    "version": 3
   },
   "file_extension": ".py",
   "mimetype": "text/x-python",
   "name": "python",
   "nbconvert_exporter": "python",
   "pygments_lexer": "ipython3",
   "version": "3.6.1"
  }
 },
 "nbformat": 4,
 "nbformat_minor": 2
}
